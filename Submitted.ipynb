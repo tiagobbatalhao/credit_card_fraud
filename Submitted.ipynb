{
 "cells": [
  {
   "cell_type": "markdown",
   "metadata": {},
   "source": [
    "# Credit Card Fraud Detection\n",
    "\n",
    "Anonymized credit card transactions labeled as fraudulent or genuine\n",
    "\n",
    "Kaggle project hosted on https://www.kaggle.com/dalpozz/creditcardfraud\n",
    "\n",
    "## Project description\n",
    "\n",
    "The datasets contains transactions made by credit cards in September 2013 by european cardholders. \n",
    "This dataset presents transactions that occurred in two days, where we have 492 frauds out of 284,807 transactions. The dataset is highly unbalanced, the positive class (frauds) account for 0.172% of all transactions.\n",
    "\n",
    "It contains only numerical input variables which are the result of a PCA transformation. Unfortunately, due to confidentiality issues, we cannot provide the original features and more background information about the data. Features V1, V2, ... V28 are the principal components obtained with PCA, the only features which have not been transformed with PCA are 'Time' and 'Amount'. Feature 'Time' contains the seconds elapsed between each transaction and the first transaction in the dataset. The feature 'Amount' is the transaction Amount, this feature can be used for example-dependant cost-senstive learning. Feature 'Class' is the response variable and it takes value 1 in case of fraud and 0 otherwise. \n",
    "\n",
    "Given the class imbalance ratio, we recommend measuring the accuracy using the Area Under the Precision-Recall Curve (AUPRC). Confusion matrix accuracy is not meaningful for unbalanced classification.\n",
    "\n",
    "The dataset has been collected and analysed during a  research collaboration of Worldline and the Machine Learning Group (http://mlg.ulb.ac.be) of ULB (Université Libre de Bruxelles) on big data mining and fraud detection.\n",
    "More details on current and past projects on related topics are available on http://mlg.ulb.ac.be/BruFence and http://mlg.ulb.ac.be/ARTML\n",
    "\n",
    "Please cite: Andrea Dal Pozzolo, Olivier Caelen, Reid A. Johnson and Gianluca Bontempi. Calibrating Probability with Undersampling for Unbalanced Classification. In Symposium on Computational Intelligence and Data Mining (CIDM), IEEE, 2015\n",
    "\n",
    "## Remarks\n",
    "\n",
    "\n",
    "The provided dataset contains PCA variables as well as 'Time' and 'Amount'. These last two features are not much helpful in improving predictive power. Many of the models were considered in situations where features derived from 'Time' and 'Amount' were present or absent, and the difference in performance between those situations was not meaningful.\n",
    "\n",
    "Several models of supervised learning were tested in the attempt to identiy fraudulent transactions, and they were evaluated through the precision-recall curve. The nature of the problem is that a false-negative error brings more damage than a false-positive error, so the interesting area of the precision-recall plot should be that of high recall and not-too-low precision.\n",
    "\n",
    "For most algorithms tested, the precision-recall curve that is very steep in the high-recall region: it's possible to reach around 90% recall with good precision, but attempts to get a small increase in recall leads to a big decrease in precision. This holds independently of the algorithm used. One conclusion that can be taken from this fact is that around 90% of the fraudulent transactions exhibit clear signs of fraud, that can be identified even by a simple model such as logistic regression, but the remaining 10% of fraudulent transactions are of high quality and hard to distinguish from legit transactions. The use of more sophisticted models (neural networks) helped eliminate some cases of false-positive results, but did not help very much in identifying the 10% of high-quality fraudulent transactions, unless it is allowed to have a high number of false-positive errors.\n",
    "\n",
    "\n"
   ]
  },
  {
   "cell_type": "markdown",
   "metadata": {},
   "source": [
    "# Setting up\n",
    "Import relevant packages and read dataset."
   ]
  },
  {
   "cell_type": "code",
   "execution_count": 1,
   "metadata": {},
   "outputs": [],
   "source": [
    "import pylab as py\n",
    "import pandas as pd\n",
    "import seaborn as sns\n",
    "import numpy.random\n",
    "import sklearn.linear_model\n",
    "import sklearn.metrics\n",
    "import sklearn.model_selection\n",
    "import sklearn.svm\n",
    "import sklearn.naive_bayes\n",
    "import sklearn.tree\n",
    "import sklearn.neural_network\n",
    "import sklearn.cluster\n",
    "import sklearn.ensemble\n",
    "import sklearn.covariance\n",
    "import sklearn.neighbors\n",
    "import numpy.linalg\n",
    "%matplotlib inline"
   ]
  },
  {
   "cell_type": "code",
   "execution_count": 2,
   "metadata": {},
   "outputs": [],
   "source": [
    "dataset_filename = 'creditcard.csv'\n",
    "dataset = pd.read_csv(dataset_filename)"
   ]
  },
  {
   "cell_type": "markdown",
   "metadata": {},
   "source": [
    "# Data visualization\n",
    "\n",
    "Before trying any algorithm, it is important to understand the available dataset. The number of features (30) is not big and some insights can be obtained from a bit of data visualization. 28 variables are the result of a PCA analysis done beforehand and I do not have metadata about their meaning. The other features are the time of transaction and the transaction amount. Some amount of feature engineering might be needed to account for time and amount."
   ]
  },
  {
   "cell_type": "markdown",
   "metadata": {},
   "source": [
    "## Data visualization of PCA variables\n",
    "\n",
    "PCA variables are ordered by their level of explaining variance in data. I can check how much of each variable explains the variance to have a sense of the importance of each variable.\n",
    "\n",
    "From the graph below, the first (most important) PCA variable explains about 12.5% of the variance in data, while the last (least important) variable explains about 0.3% of the variance in data. This does not justify discarding any of the variables."
   ]
  },
  {
   "cell_type": "code",
   "execution_count": 3,
   "metadata": {},
   "outputs": [
    {
     "data": {
      "image/png": "[encoded data removed]",
      "text/plain": [
       "<matplotlib.figure.Figure at 0x1197596d8>"
      ]
     },
     "metadata": {},
     "output_type": "display_data"
    }
   ],
   "source": [
    "columns_pca = [x for x in dataset.columns if x[0]=='V']\n",
    "fig = py.figure()\n",
    "ax = fig.add_subplot(111)\n",
    "covariance_pca = dataset[columns_pca].cov()\n",
    "variances = py.diag(covariance_pca)\n",
    "total_variance = sum(variances)\n",
    "ax.bar(range(len(variances)),variances/total_variance,width=0.8,color='k')\n",
    "ax.set_xticks([0,27])\n",
    "ax.set_xticklabels(['V1','V28'],fontsize=16)\n",
    "ax.set_xlabel('PCA variable',fontsize=16)\n",
    "ax.set_yticks([0,0.06,0.12])\n",
    "ax.set_yticklabels(['0%','6%','12%'],fontsize=16)\n",
    "ax.set_ylabel('Fraction of total variance',fontsize=16)\n",
    "ax.set_title('Relative importance of PCA variables',fontsize=16);"
   ]
  },
  {
   "cell_type": "markdown",
   "metadata": {},
   "source": [
    "Another way to check how much each variable can be important is through their degree of linear correlation with the class variable (legit or fraudulent transaction). Some of the variables show up to 0.3 correlation."
   ]
  },
  {
   "cell_type": "code",
   "execution_count": 4,
   "metadata": {},
   "outputs": [
    {
     "data": {
      "image/png": "[encoded data removed]",
      "text/plain": [
       "<matplotlib.figure.Figure at 0x111b7add8>"
      ]
     },
     "metadata": {},
     "output_type": "display_data"
    }
   ],
   "source": [
    "correlation_matrix = dataset[columns_pca+['Class']].corr()\n",
    "correlation_var = correlation_matrix.loc['Class',[x for x in correlation_matrix.columns if x!='Class']]\n",
    "fig = py.figure()\n",
    "ax = fig.add_subplot(111)\n",
    "ax.bar(range(len(correlation_var)),(correlation_var),width=0.8,color='k')\n",
    "ax.set_xticks([0,27])\n",
    "ax.set_xticklabels(['V1','V28'],fontsize=16)\n",
    "ax.set_xlabel('PCA Variable',fontsize=16)\n",
    "ax.set_ylabel('Correlation coefficient',fontsize=16)\n",
    "ax.set_yticks([-0.3,0,0.3])\n",
    "ax.set_ylim(-0.35,0.35)\n",
    "ax.set_yticklabels([str(x) for x in ax.get_yticks()],fontsize=16);\n",
    "fig.tight_layout()"
   ]
  },
  {
   "cell_type": "markdown",
   "metadata": {},
   "source": [
    "I can also visualize the projection of the training examples into pairs of PCA variables.\n",
    "\n",
    "The plots below are promising. It shows that the fraudulent transactions are concentrated and I can hope to find a rule that can separate them from the valid transactions. At the very least, it's likely that a simple model using only V1-V2-V3 can already flag many transactions as very likely to be non-fraudulent."
   ]
  },
  {
   "cell_type": "code",
   "execution_count": 5,
   "metadata": {},
   "outputs": [],
   "source": [
    "def plot_PCA_variables(dataset,variableX,variableY,equal=True):\n",
    "    dataset_valid = dataset[dataset['Class']==0]\n",
    "    dataset_fraud = dataset[dataset['Class']==1]\n",
    "    data_x_valid = dataset_valid[variableX]\n",
    "    data_y_valid = dataset_valid[variableY]\n",
    "    data_x_fraud = dataset_fraud[variableX]\n",
    "    data_y_fraud = dataset_fraud[variableY]\n",
    "    fig = py.figure()\n",
    "    if equal:\n",
    "        ax = fig.add_subplot(111,aspect='equal')\n",
    "    else:\n",
    "        ax = fig.add_subplot(111)\n",
    "    ax.scatter(data_x_valid,data_y_valid,marker='.',color='k',label='Legit')\n",
    "    ax.scatter(data_x_fraud,data_y_fraud,marker='*',color='r',label='Fraud')\n",
    "    ax.set_xlabel(variableX,fontsize=16)\n",
    "    ax.set_ylabel(variableY,fontsize=16)\n",
    "    ax.set_title('2D projection - {:s}-{:s} plane'.format(variableX,variableY),fontsize=16)\n",
    "    return fig,ax"
   ]
  },
  {
   "cell_type": "code",
   "execution_count": 6,
   "metadata": {},
   "outputs": [
    {
     "data": {
      "image/png": "[encoded data removed]",
      "text/plain": [
       "<matplotlib.figure.Figure at 0x10b78b208>"
      ]
     },
     "metadata": {},
     "output_type": "display_data"
    }
   ],
   "source": [
    "fig,ax = plot_PCA_variables(dataset,'V2','V1')"
   ]
  },
  {
   "cell_type": "code",
   "execution_count": 7,
   "metadata": {},
   "outputs": [
    {
     "data": {
      "image/png": "[encoded data removed]",
      "text/plain": [
       "<matplotlib.figure.Figure at 0x10b7bf1d0>"
      ]
     },
     "metadata": {},
     "output_type": "display_data"
    }
   ],
   "source": [
    "fig,ax = plot_PCA_variables(dataset,'V3','V1')"
   ]
  },
  {
   "cell_type": "markdown",
   "metadata": {},
   "source": [
    "## Data visualization of variable 'Time'\n",
    "\n",
    "The data includes two day's worth of transactions, labeled by seconds after the first transaction, which I don't know when it happened. From a histogram, I can infer that this transaction happened in the middle of the night, possibly at midnight of the relevant timezone.\n",
    "\n",
    "The histogram for legit transactions (shown below in blue) show a clear pattern of day-night, even that the information is not fully present in the dataset. The histogram for fraudulent transactions, on the other hand, do not show quite the same pattern. This can be due to two reasons. One is that the sample size is small, only 500 fraudulent transactions. Another is that the frauds really do not obey the same day-night cycle as the legit transactions."
   ]
  },
  {
   "cell_type": "code",
   "execution_count": 8,
   "metadata": {},
   "outputs": [
    {
     "data": {
      "image/png": "[encoded data removed]",
      "text/plain": [
       "<matplotlib.figure.Figure at 0x111adcbe0>"
      ]
     },
     "metadata": {},
     "output_type": "display_data"
    }
   ],
   "source": [
    "fig = py.figure(figsize=(1*6.4,2*4.8))\n",
    "ax = fig.add_subplot(211)\n",
    "n_bins = 48*12\n",
    "hist_legit_y,hist_legit_x,_ = ax.hist(dataset[dataset['Class']==0]['Time']/3600.,bins=n_bins,color='b',normed=None,range=(0,48));\n",
    "ax.set_xlabel('Hours since first record',fontsize=16)\n",
    "ax.set_ylabel('Number of transactions',fontsize=16);\n",
    "ax.set_title('Histogram (5-minute bins)',fontsize=16)\n",
    "ax.set_xticks([0,12,24,36,48])\n",
    "ax.set_xlim([0,48]);\n",
    "ax = fig.add_subplot(212)\n",
    "hist_fraud_y,hist_fraud_x,_ = ax.hist(dataset[dataset['Class']==1]['Time']/3600.,bins=n_bins,color='r',normed=None,range=(0,48));\n",
    "ax.set_xlabel('Hours since first record',fontsize=16)\n",
    "ax.set_ylabel('Number of transactions',fontsize=16);\n",
    "ax.set_xticks([0,12,24,36,48])\n",
    "ax.set_xlim([0,48]);"
   ]
  },
  {
   "cell_type": "markdown",
   "metadata": {},
   "source": [
    "## Feature engineering about 'Time'\n",
    "\n",
    "The influence of the transaction time on the probability of fraud has to be periodic with a period of 24 hours. Other cycles could be possible, such as a seven-day cycle to account for different weekday/weekend patterns, and possibly holidays. However, with only two days of data available, these cycles can not be studied. Because of that, only the time-of-day information should be considered, but not the day.\n",
    "\n",
    "The influence of time on the probability of fraud is not expected to be linear. As such, if the variable 'Time' is passed to a linear model such as logistic regression, it is likely to have very little predictive power. I need then to transform it to a different set of features that might be better handled to this situation.\n",
    "\n",
    "There are some ways to deal with a periodic variable. One of them is to break it into intervals and consider one-hot encoding. For example, I could have 24 features that takes values in 0-1 indicating if the transaction happened between midnight and 1am, or between 1am and 2am, and so on. \n",
    "\n",
    "However, I think a better approach is to use a set of Fourier coefficients for each transaction. The advantage that it brings is that the functions that can be modelled this way are smoother than what can be modeled by a one-hot bin encoding. To check how many harmonics must be included, I can fit the time histogram with some number of harmonics."
   ]
  },
  {
   "cell_type": "code",
   "execution_count": 9,
   "metadata": {},
   "outputs": [],
   "source": [
    "def plot_Fourier_approximation(number_of_harmonics):\n",
    "    fourier_transform = py.rfft(hist_legit_y)\n",
    "    n_coefficients = min(2*number_of_harmonics+1,len(fourier_transform))    \n",
    "    fig = py.figure()\n",
    "    ax = fig.add_subplot(111)\n",
    "    width = hist_legit_x[1] - hist_legit_x[0]\n",
    "    ax.bar(hist_legit_x[:-1],hist_legit_y,width=width)\n",
    "    size = len(hist_legit_y)\n",
    "    period = 48\n",
    "    reconstructed = py.array([fourier_transform[0].real / size for x in hist_legit_x[1:]])\n",
    "    for harmonics in range(2,n_coefficients,2):\n",
    "        reconstructed += py.array([fourier_transform[harmonics].real*py.cos(+harmonics * 2*py.pi*x/period)*2/size for x in hist_legit_x[1:]])\n",
    "        reconstructed += py.array([fourier_transform[harmonics].imag*py.sin(-harmonics * 2*py.pi*x/period)*2/size for x in hist_legit_x[1:]])\n",
    "    ax.plot(hist_legit_x[1:],reconstructed,'r-')\n",
    "    ax.set_xlabel('Hours since first record',fontsize=16)\n",
    "    ax.set_ylabel('Number of transactions',fontsize=16);\n",
    "    ax.set_title('Fourier approximation ({:d} coefficients)'.format(int(n_coefficients/2)),fontsize=16)\n",
    "\n"
   ]
  },
  {
   "cell_type": "code",
   "execution_count": 10,
   "metadata": {},
   "outputs": [
    {
     "data": {
      "image/png": "[encoded data removed]",
      "text/plain": [
       "<matplotlib.figure.Figure at 0x11315f2b0>"
      ]
     },
     "metadata": {},
     "output_type": "display_data"
    }
   ],
   "source": [
    "plot_Fourier_approximation(8)"
   ]
  },
  {
   "cell_type": "code",
   "execution_count": 11,
   "metadata": {},
   "outputs": [
    {
     "data": {
      "image/png": "[encoded data removed]",
      "text/plain": [
       "<matplotlib.figure.Figure at 0x11355ba20>"
      ]
     },
     "metadata": {},
     "output_type": "display_data"
    }
   ],
   "source": [
    "plot_Fourier_approximation(24)"
   ]
  },
  {
   "cell_type": "code",
   "execution_count": 12,
   "metadata": {},
   "outputs": [
    {
     "data": {
      "image/png": "[encoded data removed]",
      "text/plain": [
       "<matplotlib.figure.Figure at 0x1135ef9b0>"
      ]
     },
     "metadata": {},
     "output_type": "display_data"
    }
   ],
   "source": [
    "plot_Fourier_approximation(1e10)"
   ]
  },
  {
   "cell_type": "markdown",
   "metadata": {},
   "source": [
    "Based on these histograms, including eight harmonics seems enough to understand the day-night cycle of credit card transactions. Adding more harmonics probably leads to overfitting, mainly influenced by a surge of activity at a particular time near 10pm on the first day.\n",
    "\n",
    "This will lead to 16 features being created for each training example."
   ]
  },
  {
   "cell_type": "code",
   "execution_count": 13,
   "metadata": {},
   "outputs": [],
   "source": [
    "for column in dataset.columns:\n",
    "    if 'Time_Fourier_Day' in column:\n",
    "        dataset.drop(column,axis=1,inplace=True)\n",
    "n_harmonics = 8\n",
    "period = 24 * 60 * 60.0\n",
    "for harmonic in range(1,1+n_harmonics):\n",
    "    dataset['Time_Fourier_Day_C{:02d}'.format(harmonic)] = dataset['Time'].apply(lambda x,h=harmonic:py.cos(h*2*py.pi*x/period))\n",
    "    dataset['Time_Fourier_Day_S{:02d}'.format(harmonic)] = dataset['Time'].apply(lambda x,h=harmonic:py.sin(h*2*py.pi*x/period))"
   ]
  },
  {
   "cell_type": "markdown",
   "metadata": {},
   "source": [
    "## Data visualization of variable 'Amount'\n",
    "\n",
    "Like many money variables that are constrained to be positive, the distribution of this variable is highly skewed with a long right tail. Because of that, it's best to consider the logarithm of the value. However, some transactions (about 0.6% of them) are for zero amount. I will replace those values with that of the minimum transaction, $0.01.\n"
   ]
  },
  {
   "cell_type": "code",
   "execution_count": 14,
   "metadata": {},
   "outputs": [
    {
     "data": {
      "image/png": "[encoded data removed]",
      "text/plain": [
       "<matplotlib.figure.Figure at 0x1134ce6d8>"
      ]
     },
     "metadata": {},
     "output_type": "display_data"
    }
   ],
   "source": [
    "fig = py.figure()\n",
    "ax = fig.add_subplot(111)\n",
    "data_y = dataset['Amount']\n",
    "ax.hist(data_y,bins=200);\n",
    "ax.set_xlabel('Transaction amount (dollars)',fontsize=16)\n",
    "ax.set_ylabel('Histogram frequency',fontsize=16)\n",
    "ax.set_title('Histogram : amount',fontsize=16);\n",
    "ax.set_xticklabels(['$'+str(int(x)) for x in ax.get_xticks()]);"
   ]
  },
  {
   "cell_type": "code",
   "execution_count": 15,
   "metadata": {},
   "outputs": [],
   "source": [
    "dataset['Amount_log'] = dataset['Amount'].apply(lambda x:py.log10(x) if x>0 else py.nan)\n",
    "dataset['Amount_log'].fillna(min(dataset['Amount_log']),inplace=True)"
   ]
  },
  {
   "cell_type": "code",
   "execution_count": 16,
   "metadata": {},
   "outputs": [
    {
     "data": {
      "image/png": "[encoded data removed]",
      "text/plain": [
       "<matplotlib.figure.Figure at 0x114507940>"
      ]
     },
     "metadata": {},
     "output_type": "display_data"
    }
   ],
   "source": [
    "fig = py.figure()\n",
    "ax = fig.add_subplot(111)\n",
    "histogram_y,histogram_x,patches = ax.hist(dataset['Amount_log'],bins='auto');\n",
    "ax.set_xlabel('Transaction amount (dollars)',fontsize=16)\n",
    "ax.set_ylabel('Histogram frequency',fontsize=16)\n",
    "ax.set_title('Histogram : log(amount)',fontsize=16);\n",
    "ax.set_xticks(range(-2,5))\n",
    "ax.set_xticklabels(['${:d}'.format(int(10.**x)) if x>=0 else '${:.02f}'.format(10.**x) for x in ax.get_xticks()]);\n",
    "fig.tight_layout()"
   ]
  },
  {
   "cell_type": "code",
   "execution_count": 17,
   "metadata": {},
   "outputs": [
    {
     "data": {
      "image/png": "[encoded data removed]",
      "text/plain": [
       "<matplotlib.figure.Figure at 0x11418eef0>"
      ]
     },
     "metadata": {},
     "output_type": "display_data"
    }
   ],
   "source": [
    "fig = py.figure()\n",
    "ax = fig.add_subplot(111)\n",
    "histogram_y,histogram_x,patches = ax.hist(dataset[dataset['Class']==1]['Amount_log'],bins='auto',color='r');\n",
    "ax.set_xlabel('Transaction amount (dollars)',fontsize=16)\n",
    "ax.set_ylabel('Histogram frequency',fontsize=16)\n",
    "ax.set_title('Histogram : log(amount)',fontsize=16);\n",
    "ax.set_xticks(range(-2,5))\n",
    "ax.set_xticklabels(['${:d}'.format(int(10.**x)) if x>=0 else '${:.02f}'.format(10.**x) for x in ax.get_xticks()]);\n",
    "fig.tight_layout()"
   ]
  },
  {
   "cell_type": "markdown",
   "metadata": {},
   "source": [
    "A good amount of frauds seem to be for exactly one dollar, as can be seen from the absolute frequencies. While 22% of the frauds involved transactions of exactly \\$1, only 5% of legit transactions were for \\$1 (but this was also the most frequent value)."
   ]
  },
  {
   "cell_type": "code",
   "execution_count": 18,
   "metadata": {},
   "outputs": [
    {
     "data": {
      "text/plain": [
       "1.00     0.229675\n",
       "0.00     0.054878\n",
       "99.99    0.054878\n",
       "0.76     0.034553\n",
       "0.77     0.020325\n",
       "Name: Amount, dtype: float64"
      ]
     },
     "execution_count": 18,
     "metadata": {},
     "output_type": "execute_result"
    }
   ],
   "source": [
    "dataset[dataset['Class']==1]['Amount'].value_counts().head() / len(dataset[dataset['Class']==1])"
   ]
  },
  {
   "cell_type": "code",
   "execution_count": 19,
   "metadata": {},
   "outputs": [
    {
     "data": {
      "text/plain": [
       "1.00     0.047746\n",
       "1.98     0.021258\n",
       "0.89     0.017136\n",
       "9.99     0.016693\n",
       "15.00    0.011537\n",
       "Name: Amount, dtype: float64"
      ]
     },
     "execution_count": 19,
     "metadata": {},
     "output_type": "execute_result"
    }
   ],
   "source": [
    "dataset[dataset['Class']==0]['Amount'].value_counts().head() / len(dataset[dataset['Class']==0])"
   ]
  },
  {
   "cell_type": "markdown",
   "metadata": {},
   "source": [
    "## Feature engineering about 'Amount'\n",
    "\n",
    "\n",
    "\n",
    "The histogram for legit transactions shows a peak envelope with some spikes. To understand these spikes, it's instructive to look at the histogram of the cents part of the amount."
   ]
  },
  {
   "cell_type": "code",
   "execution_count": 20,
   "metadata": {},
   "outputs": [
    {
     "data": {
      "text/plain": [
       "Text(0,0.5,'Fraction of transactions')"
      ]
     },
     "execution_count": 20,
     "metadata": {},
     "output_type": "execute_result"
    },
    {
     "data": {
      "image/png": "[encoded data removed]",
      "text/plain": [
       "<matplotlib.figure.Figure at 0x1141cc2b0>"
      ]
     },
     "metadata": {},
     "output_type": "display_data"
    }
   ],
   "source": [
    "dataset['Amount_cents'] = dataset['Amount'].apply(lambda x:int(round(100*(x%1))))\n",
    "fig = py.figure()\n",
    "ax = fig.add_subplot(111)\n",
    "hist_y,hist_x,_ = ax.hist(dataset['Amount_cents'],bins=100,range=(0,100),normed=1);\n",
    "ax.set_xlabel('Amount',fontsize=16)\n",
    "ax.set_ylabel('Fraction of transactions',fontsize=16)"
   ]
  },
  {
   "cell_type": "markdown",
   "metadata": {},
   "source": [
    "Most transactions involve a whole-dollar amount. There is also some smaller peaks at almost-dollar (values ending in 0.90, 0.98 or 0.99) and also at 0.50. Then, I will create categorical variables to account for these conditions. Because of the previously mentioned fact that many fraudulent transactions are for exactly $1, I will treat this case separately from other whole-dollar amounts."
   ]
  },
  {
   "cell_type": "code",
   "execution_count": 21,
   "metadata": {},
   "outputs": [],
   "source": [
    "def categorizeCents(value):\n",
    "    dollars,cents = divmod(value,1.0)\n",
    "    cents = int(round(100*cents))\n",
    "    if value == 1:\n",
    "        return 'One'\n",
    "    elif cents in [0]:\n",
    "        return 'Whole'\n",
    "    elif cents in [50]:\n",
    "        return 'Half'\n",
    "    elif cents in [90,98,99]:\n",
    "        return 'Almost'\n",
    "    else:\n",
    "        return 'Other'\n",
    "dataset['Amount_centsCategory'] = dataset['Amount'].apply(categorizeCents)"
   ]
  },
  {
   "cell_type": "code",
   "execution_count": 22,
   "metadata": {},
   "outputs": [
    {
     "data": {
      "text/plain": [
       "<seaborn.axisgrid.FacetGrid at 0x1142f2358>"
      ]
     },
     "execution_count": 22,
     "metadata": {},
     "output_type": "execute_result"
    },
    {
     "data": {
      "image/png": "[encoded data removed]",
      "text/plain": [
       "<matplotlib.figure.Figure at 0x114324dd8>"
      ]
     },
     "metadata": {},
     "output_type": "display_data"
    }
   ],
   "source": [
    "order = ['One','Whole','Half','Almost','Other']\n",
    "ax = sns.factorplot(x='Amount_centsCategory',y='Class',data=dataset,kind='bar',order=order)\n",
    "ax.set_axis_labels('','Fraud chance')"
   ]
  },
  {
   "cell_type": "code",
   "execution_count": 23,
   "metadata": {},
   "outputs": [
    {
     "data": {
      "text/plain": [
       "Other     160811\n",
       "Whole      57097\n",
       "Almost     44813\n",
       "One        13575\n",
       "Half        8019\n",
       "Name: Amount_centsCategory, dtype: int64"
      ]
     },
     "execution_count": 23,
     "metadata": {},
     "output_type": "execute_result"
    }
   ],
   "source": [
    "dataset[dataset['Class']==0]['Amount_centsCategory'].value_counts()"
   ]
  },
  {
   "cell_type": "code",
   "execution_count": 24,
   "metadata": {},
   "outputs": [
    {
     "data": {
      "text/plain": [
       "Other     266\n",
       "One       113\n",
       "Whole      61\n",
       "Almost     50\n",
       "Half        2\n",
       "Name: Amount_centsCategory, dtype: int64"
      ]
     },
     "execution_count": 24,
     "metadata": {},
     "output_type": "execute_result"
    }
   ],
   "source": [
    "dataset[dataset['Class']==1]['Amount_centsCategory'].value_counts()"
   ]
  },
  {
   "cell_type": "markdown",
   "metadata": {},
   "source": [
    "Transactions for exactly \\$1 are more likely to be frauds than others, while transactions for half-dollar amounts (\\$0.50, \\$1.50, etc) are less likely to be frauds than others."
   ]
  },
  {
   "cell_type": "markdown",
   "metadata": {},
   "source": [
    "# Feature selection and normalization\n",
    "\n",
    "I will consider two classes of models in the analysis. Some models will use only the PCA variables, while others will include these and the engineered features derived from 'Time' and 'Amount'. This is because the PCA variables show a high degree of correlation with the legit/fraud classification, while 'Time' and 'Amount' show a weaker relationship (except for the fact about \\$1 transactions).\n",
    "\n",
    "The categorical variable 'Amount_cents' will be transformed to one-hot encoding."
   ]
  },
  {
   "cell_type": "code",
   "execution_count": 25,
   "metadata": {},
   "outputs": [
    {
     "name": "stdout",
     "output_type": "stream",
     "text": [
      "<class 'pandas.core.frame.DataFrame'>\n",
      "RangeIndex: 284807 entries, 0 to 284806\n",
      "Data columns (total 50 columns):\n",
      "Time                    284807 non-null float64\n",
      "V1                      284807 non-null float64\n",
      "V2                      284807 non-null float64\n",
      "V3                      284807 non-null float64\n",
      "V4                      284807 non-null float64\n",
      "V5                      284807 non-null float64\n",
      "V6                      284807 non-null float64\n",
      "V7                      284807 non-null float64\n",
      "V8                      284807 non-null float64\n",
      "V9                      284807 non-null float64\n",
      "V10                     284807 non-null float64\n",
      "V11                     284807 non-null float64\n",
      "V12                     284807 non-null float64\n",
      "V13                     284807 non-null float64\n",
      "V14                     284807 non-null float64\n",
      "V15                     284807 non-null float64\n",
      "V16                     284807 non-null float64\n",
      "V17                     284807 non-null float64\n",
      "V18                     284807 non-null float64\n",
      "V19                     284807 non-null float64\n",
      "V20                     284807 non-null float64\n",
      "V21                     284807 non-null float64\n",
      "V22                     284807 non-null float64\n",
      "V23                     284807 non-null float64\n",
      "V24                     284807 non-null float64\n",
      "V25                     284807 non-null float64\n",
      "V26                     284807 non-null float64\n",
      "V27                     284807 non-null float64\n",
      "V28                     284807 non-null float64\n",
      "Amount                  284807 non-null float64\n",
      "Class                   284807 non-null int64\n",
      "Time_Fourier_Day_C01    284807 non-null float64\n",
      "Time_Fourier_Day_S01    284807 non-null float64\n",
      "Time_Fourier_Day_C02    284807 non-null float64\n",
      "Time_Fourier_Day_S02    284807 non-null float64\n",
      "Time_Fourier_Day_C03    284807 non-null float64\n",
      "Time_Fourier_Day_S03    284807 non-null float64\n",
      "Time_Fourier_Day_C04    284807 non-null float64\n",
      "Time_Fourier_Day_S04    284807 non-null float64\n",
      "Time_Fourier_Day_C05    284807 non-null float64\n",
      "Time_Fourier_Day_S05    284807 non-null float64\n",
      "Time_Fourier_Day_C06    284807 non-null float64\n",
      "Time_Fourier_Day_S06    284807 non-null float64\n",
      "Time_Fourier_Day_C07    284807 non-null float64\n",
      "Time_Fourier_Day_S07    284807 non-null float64\n",
      "Time_Fourier_Day_C08    284807 non-null float64\n",
      "Time_Fourier_Day_S08    284807 non-null float64\n",
      "Amount_log              284807 non-null float64\n",
      "Amount_cents            284807 non-null int64\n",
      "Amount_centsCategory    284807 non-null object\n",
      "dtypes: float64(47), int64(2), object(1)\n",
      "memory usage: 108.6+ MB\n"
     ]
    }
   ],
   "source": [
    "dataset.info()"
   ]
  },
  {
   "cell_type": "code",
   "execution_count": 26,
   "metadata": {},
   "outputs": [],
   "source": [
    "features_amount_cents = pd.get_dummies(dataset['Amount_centsCategory'],prefix='Amount_cents')\n",
    "features_amount_cents = features_amount_cents.drop('Amount_cents_Other',axis=1)\n",
    "dataset = dataset.join(features_amount_cents)"
   ]
  },
  {
   "cell_type": "code",
   "execution_count": 27,
   "metadata": {},
   "outputs": [],
   "source": [
    "columns_pca = [x for x in dataset.columns if x[0]=='V']\n",
    "columns_all = columns_pca +\\\n",
    "               [x for x in dataset.columns if 'Time_Fourier_Day' in x] +\\\n",
    "               ['Amount_log'] +\\\n",
    "               [x for x in dataset.columns if 'Amount_cents_' in x]               "
   ]
  },
  {
   "cell_type": "markdown",
   "metadata": {},
   "source": [
    "If the chosen features have very different ranges of values, the models can be slow to converge. It is important to check that the variance of all of them have similar values."
   ]
  },
  {
   "cell_type": "code",
   "execution_count": 28,
   "metadata": {},
   "outputs": [
    {
     "data": {
      "image/png": "[encoded data removed]",
      "text/plain": [
       "<matplotlib.figure.Figure at 0x11350be10>"
      ]
     },
     "metadata": {},
     "output_type": "display_data"
    }
   ],
   "source": [
    "fig = py.figure()\n",
    "ax = fig.add_subplot(111)\n",
    "std = dataset[columns_all].describe().loc['std',:]\n",
    "ax.bar(range(len(std)),std,width=0.8,color='k')\n",
    "ax.set_xticks(range(len(std)))\n",
    "ax.set_xticklabels(columns_all,rotation='vertical')\n",
    "ax.set_xlabel('Variable',fontsize=16)\n",
    "# ax.set_ylabel('Standard deviation',fontsize=16)\n",
    "ax.set_title('Standard deviation of variables',fontsize=16)\n",
    "fig.tight_layout()"
   ]
  },
  {
   "cell_type": "markdown",
   "metadata": {},
   "source": [
    "There are not huge differences in the standard deviation of all variables. Then no feature normalization needs to take place."
   ]
  },
  {
   "cell_type": "markdown",
   "metadata": {},
   "source": [
    "# Creating training and test set\n",
    "\n",
    "To avoid problems with overfitting, it's important to test a model in a different dataset than it was trained on."
   ]
  },
  {
   "cell_type": "code",
   "execution_count": 29,
   "metadata": {},
   "outputs": [],
   "source": [
    "test_ratio = 0.2\n",
    "dataset_train,dataset_test = sklearn.model_selection.train_test_split(dataset,test_size=test_ratio,random_state=0)"
   ]
  },
  {
   "cell_type": "markdown",
   "metadata": {},
   "source": [
    "# Modelling \n",
    "\n",
    "I will test several models, and also potentially test a stacking model that combines some of the models. I will consider models that only take into account the PCA variables and models that take into account the other variables derived from Time and Amount. \n",
    "\n",
    "All models will be stored in the variable 'trained_models' and the predicted probabilities are stored in a Pandas dataframe variable 'predicted_probabilities'.\n",
    "\n",
    "Each model is trained using the GridSearchCV routine. This uses cross-validation techniques to optimize some hyperparameters about the model. Examples of hyperparameters include the regularization strenght in logistic regression and neural networks, or the size (number of nodes) of a neural network, etc. This optimization is done using the 'average_precision' argument, which is equivalent to the area under the precision-recall curve."
   ]
  },
  {
   "cell_type": "code",
   "execution_count": 30,
   "metadata": {},
   "outputs": [],
   "source": [
    "trained_models = {}\n",
    "predicted_probabilities = pd.DataFrame(index=dataset.index)\n",
    "scorers = [sklearn.metrics.make_scorer(sklearn.metrics.average_precision_score),\n",
    "           sklearn.metrics.make_scorer(sklearn.metrics.fbeta_score,beta=5)]\n",
    "def routine_GridSearchCV(estimator,parameters,dataset,columns,scoring_method=0):\n",
    "    scoring = scorers[scoring_method]\n",
    "    grid = sklearn.model_selection.GridSearchCV(estimator,parameters,scoring)\n",
    "    grid.fit(dataset[columns],dataset['Class'])\n",
    "    best_model = grid.best_estimator_\n",
    "    return best_model"
   ]
  },
  {
   "cell_type": "markdown",
   "metadata": {},
   "source": [
    "## Logistic regression\n",
    "\n",
    "Before trying more 'fancy' models, I will look at a simple logistic regression to serve as a benchmark. A simpler model of the logistic regression will actually only use the PCA variables."
   ]
  },
  {
   "cell_type": "code",
   "execution_count": 31,
   "metadata": {},
   "outputs": [],
   "source": [
    "estimator = sklearn.linear_model.LogisticRegression()\n",
    "parameters = {'C':10**(py.linspace(-3,3,5))}\n",
    "label = 'logreg_pca'\n",
    "trained_models[label] = routine_GridSearchCV(estimator,parameters,dataset_train,columns_pca,scoring_method=0)\n",
    "predicted_probabilities[label] = trained_models[label].predict_proba(dataset[columns_pca]).T[1]\n",
    "label = 'logreg_all'\n",
    "trained_models[label] = routine_GridSearchCV(estimator,parameters,dataset_train,columns_all,scoring_method=0)\n",
    "predicted_probabilities[label] = trained_models[label].predict_proba(dataset[columns_all]).T[1]"
   ]
  },
  {
   "cell_type": "code",
   "execution_count": 32,
   "metadata": {},
   "outputs": [
    {
     "data": {
      "text/plain": [
       "Text(0.5,1,'PRC - Logistic regression')"
      ]
     },
     "execution_count": 32,
     "metadata": {},
     "output_type": "execute_result"
    },
    {
     "data": {
      "image/png": "[encoded data removed]",
      "text/plain": [
       "<matplotlib.figure.Figure at 0x113502d30>"
      ]
     },
     "metadata": {},
     "output_type": "display_data"
    }
   ],
   "source": [
    "fig = py.figure()\n",
    "ax = fig.add_subplot(111,aspect='equal')\n",
    "y_true = dataset_test['Class']\n",
    "for label in ['logreg_pca','logreg_all']:\n",
    "    y_predict = predicted_probabilities.loc[dataset_test.index,label]\n",
    "    precision,recall,threshold = sklearn.metrics.precision_recall_curve(y_true,y_predict)\n",
    "    ax.plot(recall,precision,'.-',label=label)\n",
    "ax.set_xlim(-0.1,1.1)\n",
    "ax.set_ylim(-0.1,1.1)\n",
    "ax.set_xticks([0,0.5,1.0])\n",
    "ax.set_xticklabels([str(x) for x in ax.get_xticks()],fontsize=16)\n",
    "ax.set_yticks([0,0.5,1.0])\n",
    "ax.set_yticklabels([str(x) for x in ax.get_yticks()],fontsize=16)\n",
    "ax.set_xlabel('Recall',fontsize=16)\n",
    "ax.set_ylabel('Precision',fontsize=16)\n",
    "ax.legend(loc='lower left',fontsize=12)\n",
    "ax.set_title('PRC - Logistic regression',fontsize=16)"
   ]
  },
  {
   "cell_type": "markdown",
   "metadata": {},
   "source": [
    "## Naive Bayes method\n",
    "\n",
    "I am now going to test another very simple model that is very fast computationally. It turns out to be a very naive method, not much helpful."
   ]
  },
  {
   "cell_type": "code",
   "execution_count": 33,
   "metadata": {},
   "outputs": [],
   "source": [
    "estimator = sklearn.naive_bayes.GaussianNB()\n",
    "parameters = {}\n",
    "label = 'naivebayes_pca'\n",
    "trained_models[label] = routine_GridSearchCV(estimator,parameters,dataset_train,columns_pca)\n",
    "predicted_probabilities[label] = trained_models[label].predict_proba(dataset[columns_pca]).T[1]\n",
    "label = 'naivebayes_all'\n",
    "trained_models[label] = routine_GridSearchCV(estimator,parameters,dataset_train,columns_all)\n",
    "predicted_probabilities[label] = trained_models[label].predict_proba(dataset[columns_all]).T[1]"
   ]
  },
  {
   "cell_type": "code",
   "execution_count": 34,
   "metadata": {},
   "outputs": [
    {
     "data": {
      "text/plain": [
       "Text(0.5,1,'PRC - Naive Bayes')"
      ]
     },
     "execution_count": 34,
     "metadata": {},
     "output_type": "execute_result"
    },
    {
     "data": {
      "image/png": "[encoded data removed]",
      "text/plain": [
       "<matplotlib.figure.Figure at 0x1134f9a90>"
      ]
     },
     "metadata": {},
     "output_type": "display_data"
    }
   ],
   "source": [
    "fig = py.figure()\n",
    "ax = fig.add_subplot(111,aspect='equal')\n",
    "y_true = dataset_test['Class']\n",
    "for label in ['naivebayes_pca','naivebayes_all']:\n",
    "    y_predict = predicted_probabilities.loc[dataset_test.index,label]\n",
    "    precision,recall,threshold = sklearn.metrics.precision_recall_curve(y_true,y_predict)\n",
    "    ax.plot(recall,precision,'.-',label=label)\n",
    "ax.set_xlim(-0.1,1.1)\n",
    "ax.set_ylim(-0.1,1.1)\n",
    "ax.set_xticks([0,0.5,1.0])\n",
    "ax.set_xticklabels([str(x) for x in ax.get_xticks()],fontsize=16)\n",
    "ax.set_yticks([0,0.5,1.0])\n",
    "ax.set_yticklabels([str(x) for x in ax.get_yticks()],fontsize=16)\n",
    "ax.set_xlabel('Recall',fontsize=16)\n",
    "ax.set_ylabel('Precision',fontsize=16)\n",
    "ax.legend(loc='lower left',fontsize=12)\n",
    "ax.set_title('PRC - Naive Bayes',fontsize=16)"
   ]
  },
  {
   "cell_type": "markdown",
   "metadata": {},
   "source": [
    "## Decision tree classifier\n",
    "\n",
    "One advantage of this method is that it is possible to know which features the fitted model considers important for the task. I will test two types of trees, with different criterions for optimization."
   ]
  },
  {
   "cell_type": "code",
   "execution_count": null,
   "metadata": {},
   "outputs": [],
   "source": [
    "estimator = sklearn.tree.DecisionTreeClassifier()\n",
    "parameters = {'criterion':['gini','entropy'],'max_depth':[None,5,10]}\n",
    "label = 'decisiontree_pca'\n",
    "trained_models[label] = routine_GridSearchCV(estimator,parameters,dataset_train,columns_pca)\n",
    "predicted_probabilities[label] = trained_models[label].predict_proba(dataset[columns_pca]).T[1]\n",
    "label = 'decisiontree_all'\n",
    "trained_models[label] = routine_GridSearchCV(estimator,parameters,dataset_train,columns_all)\n",
    "predicted_probabilities[label] = trained_models[label].predict_proba(dataset[columns_all]).T[1]"
   ]
  },
  {
   "cell_type": "code",
   "execution_count": null,
   "metadata": {},
   "outputs": [],
   "source": [
    "fig = py.figure()\n",
    "ax = fig.add_subplot(111,aspect='equal')\n",
    "y_true = dataset_test['Class']\n",
    "for label in ['decisiontree_pca','decisiontree_all']:\n",
    "    y_predict = predicted_probabilities.loc[dataset_test.index,label]\n",
    "    precision,recall,threshold = sklearn.metrics.precision_recall_curve(y_true,y_predict)\n",
    "    ax.plot(recall,precision,'.-',label=label)\n",
    "ax.set_xlim(-0.1,1.1)\n",
    "ax.set_ylim(-0.1,1.1)\n",
    "ax.set_xticks([0,0.5,1.0])\n",
    "ax.set_xticklabels([str(x) for x in ax.get_xticks()],fontsize=16)\n",
    "ax.set_yticks([0,0.5,1.0])\n",
    "ax.set_yticklabels([str(x) for x in ax.get_yticks()],fontsize=16)\n",
    "ax.set_xlabel('Recall',fontsize=16)\n",
    "ax.set_ylabel('Precision',fontsize=16)\n",
    "ax.legend(loc='lower left',fontsize=12)\n",
    "ax.set_title('PRC - Decision tree',fontsize=16)"
   ]
  },
  {
   "cell_type": "markdown",
   "metadata": {},
   "source": [
    "## Random forest classifier\n",
    "\n",
    "A random forest method uses an averaging of decision trees."
   ]
  },
  {
   "cell_type": "code",
   "execution_count": null,
   "metadata": {},
   "outputs": [],
   "source": [
    "estimator = sklearn.ensemble.RandomForestClassifier()\n",
    "parameters = {'n_estimators':[5,10],'criterion':['gini','entropy'],'max_depth':[None,5]}\n",
    "label = 'randomforest_pca'\n",
    "trained_models[label] = routine_GridSearchCV(estimator,parameters,dataset_train,columns_pca)\n",
    "predicted_probabilities[label] = trained_models[label].predict_proba(dataset[columns_pca]).T[1]\n",
    "label = 'randomforest_all'\n",
    "trained_models[label] = routine_GridSearchCV(estimator,parameters,dataset_train,columns_all)\n",
    "predicted_probabilities[label] = trained_models[label].predict_proba(dataset[columns_all]).T[1]"
   ]
  },
  {
   "cell_type": "code",
   "execution_count": null,
   "metadata": {},
   "outputs": [],
   "source": [
    "fig = py.figure()\n",
    "ax = fig.add_subplot(111,aspect='equal')\n",
    "y_true = dataset_test['Class']\n",
    "for label in ['randomforest_pca','randomforest_all']:\n",
    "    y_predict = predicted_probabilities.loc[dataset_test.index,label]\n",
    "    precision,recall,threshold = sklearn.metrics.precision_recall_curve(y_true,y_predict)\n",
    "    ax.plot(recall,precision,'.-',label=label)\n",
    "ax.set_xlim(-0.1,1.1)\n",
    "ax.set_ylim(-0.1,1.1)\n",
    "ax.set_xticks([0,0.5,1.0])\n",
    "ax.set_xticklabels([str(x) for x in ax.get_xticks()],fontsize=16)\n",
    "ax.set_yticks([0,0.5,1.0])\n",
    "ax.set_yticklabels([str(x) for x in ax.get_yticks()],fontsize=16)\n",
    "ax.set_xlabel('Recall',fontsize=16)\n",
    "ax.set_ylabel('Precision',fontsize=16)\n",
    "ax.legend(loc='lower left',fontsize=12)\n",
    "ax.set_title('PRC - Random forest',fontsize=16)"
   ]
  },
  {
   "cell_type": "markdown",
   "metadata": {},
   "source": [
    "An alternative to random forests provided by sci-kit-learn is the ExtraTrees classifier."
   ]
  },
  {
   "cell_type": "code",
   "execution_count": null,
   "metadata": {},
   "outputs": [],
   "source": [
    "estimator = sklearn.ensemble.ExtraTreesClassifier()\n",
    "parameters = {'n_estimators':[5,10],'criterion':['gini','entropy'],'max_depth':[None,5]}\n",
    "label = 'extratrees_pca'\n",
    "trained_models[label] = routine_GridSearchCV(estimator,parameters,dataset_train,columns_pca)\n",
    "predicted_probabilities[label] = trained_models[label].predict_proba(dataset[columns_pca]).T[1]\n",
    "label = 'extratrees_all'\n",
    "trained_models[label] = routine_GridSearchCV(estimator,parameters,dataset_train,columns_all)\n",
    "predicted_probabilities[label] = trained_models[label].predict_proba(dataset[columns_all]).T[1]"
   ]
  },
  {
   "cell_type": "code",
   "execution_count": null,
   "metadata": {},
   "outputs": [],
   "source": [
    "fig = py.figure()\n",
    "ax = fig.add_subplot(111,aspect='equal')\n",
    "y_true = dataset_test['Class']\n",
    "for label in ['extratrees_pca','extratrees_all']:\n",
    "    y_predict = predicted_probabilities.loc[dataset_test.index,label]\n",
    "    precision,recall,threshold = sklearn.metrics.precision_recall_curve(y_true,y_predict)\n",
    "    ax.plot(recall,precision,'.-',label=label)\n",
    "ax.set_xlim(-0.1,1.1)\n",
    "ax.set_ylim(-0.1,1.1)\n",
    "ax.set_xticks([0,0.5,1.0])\n",
    "ax.set_xticklabels([str(x) for x in ax.get_xticks()],fontsize=16)\n",
    "ax.set_yticks([0,0.5,1.0])\n",
    "ax.set_yticklabels([str(x) for x in ax.get_yticks()],fontsize=16)\n",
    "ax.set_xlabel('Recall',fontsize=16)\n",
    "ax.set_ylabel('Precision',fontsize=16)\n",
    "ax.legend(loc='lower left',fontsize=12)\n",
    "ax.set_title('PRC - Extra trees',fontsize=16)"
   ]
  },
  {
   "cell_type": "markdown",
   "metadata": {
    "collapsed": true
   },
   "source": [
    "## Support vector machine\n",
    "\n",
    "Another popular estimator is a support vector machine. It implements only a prediction method with 0-1 labels, but no probabilities.\n",
    "\n",
    "There are several possible kernels. Linear kernels have a runtime much faster than nonlinear kernels.\n",
    "\n",
    "It turns out that Support Vector Machines don't perform well on this dataset. They are more computationally expensive and perform worse than a simple logistic regression."
   ]
  },
  {
   "cell_type": "code",
   "execution_count": null,
   "metadata": {},
   "outputs": [],
   "source": [
    "estimator = sklearn.svm.LinearSVC(class_weight='balanced')\n",
    "label = 'svmlinear_pca'\n",
    "estimator.fit(dataset_train[columns_pca],dataset_train['Class'])\n",
    "trained_models[label] = estimator\n",
    "predicted_probabilities[label] = trained_models[label].predict(dataset[columns_pca])"
   ]
  },
  {
   "cell_type": "code",
   "execution_count": null,
   "metadata": {},
   "outputs": [],
   "source": [
    "estimator = sklearn.svm.LinearSVC(class_weight='balanced')\n",
    "label = 'svmlinear_all'\n",
    "estimator.fit(dataset_train[columns_all],dataset_train['Class'])\n",
    "trained_models[label] = estimator\n",
    "predicted_probabilities[label] = trained_models[label].predict(dataset[columns_all])"
   ]
  },
  {
   "cell_type": "code",
   "execution_count": null,
   "metadata": {},
   "outputs": [],
   "source": [
    "estimator = sklearn.svm.SVC(class_weight='balanced')\n",
    "label = 'svmgeneral_pca'\n",
    "estimator.fit(dataset_train[columns_pca],dataset_train['Class'])\n",
    "trained_models[label] = estimator\n",
    "predicted_probabilities[label] = trained_models[label].predict(dataset[columns_pca])"
   ]
  },
  {
   "cell_type": "code",
   "execution_count": null,
   "metadata": {},
   "outputs": [],
   "source": [
    "estimator = sklearn.svm.SVC(class_weight='balanced')\n",
    "label = 'svmgeneral_all'\n",
    "estimator.fit(dataset_train[columns_all],dataset_train['Class'])\n",
    "trained_models[label] = estimator\n",
    "predicted_probabilities[label] = trained_models[label].predict(dataset[columns_all])"
   ]
  },
  {
   "cell_type": "code",
   "execution_count": null,
   "metadata": {},
   "outputs": [],
   "source": [
    "fig = py.figure()\n",
    "ax = fig.add_subplot(111,aspect='equal')\n",
    "y_true = dataset_test['Class']\n",
    "for label in ['svmlinear_pca','svmgeneral_pca']:\n",
    "    y_predict = predicted_probabilities.loc[dataset_test.index,label]\n",
    "    precision,recall,threshold = sklearn.metrics.precision_recall_curve(y_true,y_predict)\n",
    "    ax.plot(recall,precision,'.-',label=label)\n",
    "ax.set_xlim(-0.1,1.1)\n",
    "ax.set_ylim(-0.1,1.1)\n",
    "ax.set_xticks([0,0.5,1.0])\n",
    "ax.set_xticklabels([str(x) for x in ax.get_xticks()],fontsize=16)\n",
    "ax.set_yticks([0,0.5,1.0])\n",
    "ax.set_yticklabels([str(x) for x in ax.get_yticks()],fontsize=16)\n",
    "ax.set_xlabel('Recall',fontsize=16)\n",
    "ax.set_ylabel('Precision',fontsize=16)\n",
    "ax.legend(loc='lower left',fontsize=12)\n",
    "ax.set_title('PRC - Support vector machine',fontsize=16)"
   ]
  },
  {
   "cell_type": "markdown",
   "metadata": {},
   "source": [
    "## Neural networks\n",
    "\n",
    "A more sophisticated methods is neural networks."
   ]
  },
  {
   "cell_type": "code",
   "execution_count": null,
   "metadata": {},
   "outputs": [],
   "source": [
    "estimator = sklearn.neural_network.MLPClassifier()\n",
    "# parameters = {'activation':['relu','tanh','logistic'],'alpha':10**(py.linspace(-5,-3,3)),'hidden_layer_sizes':[(100,),(300,),(500,)]}\n",
    "parameters = {'activation':['relu','logistic'],'alpha':[10**(-4)],'hidden_layer_sizes':[(100,),(300,)]}\n",
    "label = 'neuralnet_pca'\n",
    "trained_models[label] = routine_GridSearchCV(estimator,parameters,dataset_train,columns_pca)\n",
    "predicted_probabilities[label] = trained_models[label].predict_proba(dataset[columns_pca]).T[1]\n",
    "label = 'neuralnet_all'\n",
    "trained_models[label] = routine_GridSearchCV(estimator,parameters,dataset_train,columns_all)\n",
    "predicted_probabilities[label] = trained_models[label].predict_proba(dataset[columns_all]).T[1]"
   ]
  },
  {
   "cell_type": "code",
   "execution_count": null,
   "metadata": {},
   "outputs": [],
   "source": [
    "fig = py.figure()\n",
    "ax = fig.add_subplot(111,aspect='equal')\n",
    "y_true = dataset_test['Class']\n",
    "for label in ['neuralnet_pca','neuralnet_all']:\n",
    "    y_predict = predicted_probabilities.loc[dataset_test.index,label]\n",
    "    precision,recall,threshold = sklearn.metrics.precision_recall_curve(y_true,y_predict)\n",
    "    ax.plot(recall,precision,'.-',label=label)\n",
    "ax.set_xlim(-0.1,1.1)\n",
    "ax.set_ylim(-0.1,1.1)\n",
    "ax.set_xticks([0,0.5,1.0])\n",
    "ax.set_xticklabels([str(x) for x in ax.get_xticks()],fontsize=16)\n",
    "ax.set_yticks([0,0.5,1.0])\n",
    "ax.set_yticklabels([str(x) for x in ax.get_yticks()],fontsize=16)\n",
    "ax.set_xlabel('Recall',fontsize=16)\n",
    "ax.set_ylabel('Precision',fontsize=16)\n",
    "ax.legend(loc='lower left',fontsize=12)\n",
    "ax.set_title('PRC - Neural networks',fontsize=16)"
   ]
  },
  {
   "cell_type": "markdown",
   "metadata": {},
   "source": [
    "## Deep neural network\n",
    "\n",
    "A neural network can also have more layers.\n"
   ]
  },
  {
   "cell_type": "code",
   "execution_count": null,
   "metadata": {},
   "outputs": [],
   "source": [
    "estimator = sklearn.neural_network.MLPClassifier()\n",
    "parameters = {'activation':['relu','logistic'],'alpha':[10**(-4)],'hidden_layer_sizes':[(50,20),(100,30)]}\n",
    "label = 'neuralnetdeep_pca'\n",
    "trained_models[label] = routine_GridSearchCV(estimator,parameters,dataset_train,columns_pca)\n",
    "predicted_probabilities[label] = trained_models[label].predict_proba(dataset[columns_pca]).T[1]\n",
    "label = 'neuralnetdeep_all'\n",
    "trained_models[label] = routine_GridSearchCV(estimator,parameters,dataset_train,columns_all)\n",
    "predicted_probabilities[label] = trained_models[label].predict_proba(dataset[columns_all]).T[1]"
   ]
  },
  {
   "cell_type": "code",
   "execution_count": null,
   "metadata": {},
   "outputs": [],
   "source": [
    "fig = py.figure()\n",
    "ax = fig.add_subplot(111,aspect='equal')\n",
    "y_true = dataset_test['Class']\n",
    "for label in ['neuralnet_pca','neuralnet_all','neuralnetdeep_pca','neuralnetdeep_all']:\n",
    "    y_predict = predicted_probabilities.loc[dataset_test.index,label]\n",
    "    precision,recall,threshold = sklearn.metrics.precision_recall_curve(y_true,y_predict)\n",
    "    ax.plot(recall,precision,'.-',label=label)\n",
    "ax.set_xlim(-0.1,1.1)\n",
    "ax.set_ylim(-0.1,1.1)\n",
    "ax.set_xticks([0,0.5,1.0])\n",
    "ax.set_xticklabels([str(x) for x in ax.get_xticks()],fontsize=16)\n",
    "ax.set_yticks([0,0.5,1.0])\n",
    "ax.set_yticklabels([str(x) for x in ax.get_yticks()],fontsize=16)\n",
    "ax.set_xlabel('Recall',fontsize=16)\n",
    "ax.set_ylabel('Precision',fontsize=16)\n",
    "ax.legend(loc='lower left',fontsize=12)\n",
    "ax.set_title('PRC - Neural networks',fontsize=16)"
   ]
  },
  {
   "cell_type": "markdown",
   "metadata": {},
   "source": [
    "## Using polynomial features\n",
    "\n",
    "The methods used so far showed that adding the features derived from 'Time' and 'Amount' did not significantly improve the performance, and also that more complex models do not show an improvement in the aress of high recall and moderate precision. \n",
    "\n",
    "One way to possibly increase the performance is to consider polynomial features of the PCA variables. The number of features is increased to "
   ]
  },
  {
   "cell_type": "code",
   "execution_count": null,
   "metadata": {},
   "outputs": [],
   "source": [
    "polynomial_transformer = {}\n",
    "polynomial_features = {}"
   ]
  },
  {
   "cell_type": "code",
   "execution_count": null,
   "metadata": {},
   "outputs": [],
   "source": [
    "label = 'logreg_polypca'\n",
    "polynomial_transformer[label] = sklearn.preprocessing.PolynomialFeatures(degree=2,include_bias=False)\n",
    "polynomial_features[label] = polynomial_transformer[label].fit_transform(dataset[columns_pca])\n",
    "trained_models[label] = sklearn.linear_model.LogisticRegression(max_iter=200)\n",
    "trained_models[label].fit(polynomial_features[label][dataset_train.index],dataset_train['Class'])\n",
    "predicted_probabilities[label] = trained_models[label].predict_proba(polynomial_features[label]).T[1]\n",
    "\n",
    "\n",
    "\n",
    "# label = 'logreg_polypca'\n",
    "# polynomial_transformer[label] = sklearn.preprocessing.PolynomialFeatures(degree=2,include_bias=False)\n",
    "# polynomial_features[label] = polynomial_transformer[label].fit_transform(dataset[columns_pca])\n",
    "# estimator = sklearn.linear_model.LogisticRegression(verbose=5,max_iter=200)\n",
    "# parameters = {'C':10**(py.linspace(-1,1,3))}\n",
    "# scoring = scorers[0]\n",
    "# grid = sklearn.model_selection.GridSearchCV(estimator,parameters,scoring)\n",
    "# grid.fit(polynomial_features[label][dataset_train.index],dataset_train['Class'])\n",
    "# trained_models[label] = grid.best_estimator_\n",
    "# predicted_probabilities[label] = trained_models[label].predict_proba(polynomial_features[label]).T[1]\n",
    "# label = 'logreg_polypca'\n",
    "# polynomial_transformer[label] = sklearn.preprocessing.PolynomialFeatures(degree=2,include_bias=False)\n",
    "# polynomial_features[label] = polynomial_transformer[label].fit_transform(dataset[columns_pca])\n",
    "# estimator = sklearn.linear_model.LogisticRegression()\n",
    "# parameters = {'C':10**(py.linspace(-1,1,3))}\n",
    "# scoring = scorers[0]\n",
    "# grid = sklearn.model_selection.GridSearchCV(estimator,parameters,scoring)\n",
    "# grid.fit(polynomial_features[label,dataset_train],dataset_train['Class'])\n",
    "# trained_models[label] = grid.best_estimator_\n",
    "# predicted_probabilities[label] = trained_models[label].predict_proba(polynomial_features).T[1]"
   ]
  },
  {
   "cell_type": "markdown",
   "metadata": {},
   "source": [
    "We can also test the performance using only a subset of the PCA variables."
   ]
  },
  {
   "cell_type": "code",
   "execution_count": null,
   "metadata": {},
   "outputs": [],
   "source": [
    "n_components = 5\n",
    "label = 'logreg_polypca_'+str(n_components)\n",
    "polynomial_transformer[label] = sklearn.preprocessing.PolynomialFeatures(degree=2,include_bias=False)\n",
    "polynomial_features[label] = polynomial_transformer[label].fit_transform(dataset[['V'+str(x) for x in range(1,1+n_components)]])\n",
    "trained_models[label] = sklearn.linear_model.LogisticRegression(max_iter=200)\n",
    "trained_models[label].fit(polynomial_features[label][dataset_train.index],dataset_train['Class'])\n",
    "predicted_probabilities[label] = trained_models[label].predict_proba(polynomial_features[label]).T[1]\n",
    "\n",
    "\n",
    "# estimator = sklearn.linear_model.LogisticRegression()\n",
    "# parameters = {'C':10**(py.linspace(-1,1,3))}\n",
    "# scoring = scorers[0]\n",
    "# grid = sklearn.model_selection.GridSearchCV(estimator,parameters,scoring)\n",
    "# grid.fit(polynomial_features[label][dataset_train.index],dataset_train['Class'])\n",
    "# trained_models[label] = grid.best_estimator_\n",
    "# predicted_probabilities[label] = trained_models[label].predict_proba(polynomial_features[label]).T[1]"
   ]
  },
  {
   "cell_type": "code",
   "execution_count": null,
   "metadata": {},
   "outputs": [],
   "source": [
    "n_components = 10\n",
    "label = 'logreg_polypca_'+str(n_components)\n",
    "polynomial_transformer[label] = sklearn.preprocessing.PolynomialFeatures(degree=2,include_bias=False)\n",
    "polynomial_features[label] = polynomial_transformer[label].fit_transform(dataset[['V'+str(x) for x in range(1,1+n_components)]])\n",
    "trained_models[label] = sklearn.linear_model.LogisticRegression(max_iter=200)\n",
    "trained_models[label].fit(polynomial_features[label][dataset_train.index],dataset_train['Class'])\n",
    "predicted_probabilities[label] = trained_models[label].predict_proba(polynomial_features[label]).T[1]\n",
    "\n",
    "\n",
    "# n_components = 10\n",
    "# label = 'logreg_polypca_'+str(n_components)\n",
    "# polynomial_transformer[label] = sklearn.preprocessing.PolynomialFeatures(degree=2,include_bias=False)\n",
    "# polynomial_features[label] = polynomial_transformer[label].fit_transform(dataset[['V'+str(x) for x in range(1,1+n_components)]])\n",
    "# estimator = sklearn.linear_model.LogisticRegression()\n",
    "# parameters = {'C':10**(py.linspace(-1,1,3))}\n",
    "# scoring = scorers[0]\n",
    "# grid = sklearn.model_selection.GridSearchCV(estimator,parameters,scoring)\n",
    "# grid.fit(polynomial_features[label][dataset_train.index],dataset_train['Class'])\n",
    "# trained_models[label] = grid.best_estimator_\n",
    "# predicted_probabilities[label] = trained_models[label].predict_proba(polynomial_features[label]).T[1]"
   ]
  },
  {
   "cell_type": "code",
   "execution_count": null,
   "metadata": {},
   "outputs": [],
   "source": [
    "fig = py.figure()\n",
    "ax = fig.add_subplot(111,aspect='equal')\n",
    "y_true = dataset_test['Class']\n",
    "for label in ['logreg_polypca','logreg_polypca_5','logreg_polypca_10']:\n",
    "    y_predict = predicted_probabilities.loc[dataset_test.index,label]\n",
    "    precision,recall,threshold = sklearn.metrics.precision_recall_curve(y_true,y_predict)\n",
    "    ax.plot(recall,precision,'.-',label=label)\n",
    "ax.set_xlim(-0.1,1.1)\n",
    "ax.set_ylim(-0.1,1.1)\n",
    "ax.set_xticks([0,0.5,1.0])\n",
    "ax.set_xticklabels([str(x) for x in ax.get_xticks()],fontsize=16)\n",
    "ax.set_yticks([0,0.5,1.0])\n",
    "ax.set_yticklabels([str(x) for x in ax.get_xticks()],fontsize=16)\n",
    "ax.set_xlabel('Recall',fontsize=16)\n",
    "ax.set_ylabel('Precision',fontsize=16)\n",
    "ax.legend(loc='lower left',fontsize=12)\n",
    "ax.set_title('PRC - Polynomial features',fontsize=16)"
   ]
  },
  {
   "cell_type": "markdown",
   "metadata": {},
   "source": [
    "Using a smaller subset of PCA variables with polynomial features does not beat the linear model using all PCA variables."
   ]
  },
  {
   "cell_type": "markdown",
   "metadata": {},
   "source": [
    "## Naive Bayes with polynomial features\n",
    "\n",
    "As in the case with linear features, naive Bayes is very fast but poor-performing."
   ]
  },
  {
   "cell_type": "code",
   "execution_count": null,
   "metadata": {},
   "outputs": [],
   "source": [
    "label = 'naivebayes_polypca'\n",
    "estimator = sklearn.naive_bayes.GaussianNB()\n",
    "polynomial_transformer[label] = sklearn.preprocessing.PolynomialFeatures(degree=2,include_bias=False)\n",
    "polynomial_features[label] = polynomial_transformer[label].fit_transform(dataset[columns_pca])\n",
    "estimator.fit(polynomial_features[label],dataset['Class'])\n",
    "trained_models[label] = estimator\n",
    "predicted_probabilities[label] = trained_models[label].predict_proba(polynomial_features[label]).T[1]"
   ]
  },
  {
   "cell_type": "code",
   "execution_count": null,
   "metadata": {},
   "outputs": [],
   "source": [
    "fig = py.figure()\n",
    "ax = fig.add_subplot(111,aspect='equal')\n",
    "y_true = dataset_test['Class']\n",
    "for label in ['naivebayes_polypca']:\n",
    "    y_predict = predicted_probabilities.loc[dataset_test.index,label]\n",
    "    precision,recall,threshold = sklearn.metrics.precision_recall_curve(y_true,y_predict)\n",
    "    ax.plot(recall,precision,'.-',label=label)\n",
    "ax.set_xlim(-0.1,1.1)\n",
    "ax.set_ylim(-0.1,1.1)\n",
    "ax.set_xticks([0,0.5,1.0])\n",
    "ax.set_xticklabels([str(x) for x in ax.get_xticks()],fontsize=16)\n",
    "ax.set_yticks([0,0.5,1.0])\n",
    "ax.set_yticklabels([str(x) for x in ax.get_yticks()],fontsize=16)\n",
    "ax.set_xlabel('Recall',fontsize=16)\n",
    "ax.set_ylabel('Precision',fontsize=16)\n",
    "ax.legend(loc='lower left',fontsize=12)\n",
    "ax.set_title('PRC - Naive Bayes with poly',fontsize=16)"
   ]
  },
  {
   "cell_type": "markdown",
   "metadata": {},
   "source": [
    "## Undersampling\n",
    "\n",
    "There is a high degree of imbalance in the dataset, while many classification algorithms are better adapted to classificaation of more balanced datasets. One approach is then to undersample the legit transactions to create a more balanced dataset.\n",
    "\n",
    "However, this did not show improvement over the models trained on the entire dataset."
   ]
  },
  {
   "cell_type": "code",
   "execution_count": null,
   "metadata": {},
   "outputs": [],
   "source": [
    "def undersample(dataset,fraction=1.0):\n",
    "    index_fraud = dataset[dataset['Class']==1].index\n",
    "    index_legit = dataset[dataset['Class']==0].index\n",
    "    index_legit = numpy.random.choice(index_legit,size=int(fraction*len(index_legit)),replace=False)\n",
    "    index = list(index_legit) + list(index_fraud)\n",
    "    numpy.random.shuffle(index)\n",
    "    return index"
   ]
  },
  {
   "cell_type": "code",
   "execution_count": null,
   "metadata": {},
   "outputs": [],
   "source": [
    "estimator = sklearn.neural_network.MLPClassifier(max_iter=1000)\n",
    "parameters = {'activation':['relu','logistic'],'alpha':[10**(-4)],'hidden_layer_sizes':[(50,20),(100,30)]}\n",
    "label = 'neuralnet_under1_pca'\n",
    "train = dataset_train.loc[undersample(dataset_train,0.002)]\n",
    "trained_models[label] = routine_GridSearchCV(estimator,parameters,train,columns_pca)\n",
    "predicted_probabilities[label] = trained_models[label].predict_proba(dataset[columns_pca]).T[1]\n",
    "label = 'neuralnet_under1_all'\n",
    "trained_models[label] = routine_GridSearchCV(estimator,parameters,train,columns_all)\n",
    "predicted_probabilities[label] = trained_models[label].predict_proba(dataset[columns_all]).T[1]"
   ]
  },
  {
   "cell_type": "code",
   "execution_count": null,
   "metadata": {},
   "outputs": [],
   "source": [
    "estimator = sklearn.neural_network.MLPClassifier(max_iter=1000)\n",
    "parameters = {'activation':['relu','logistic'],'alpha':[10**(-4)],'hidden_layer_sizes':[(50,20),(100,30)]}\n",
    "label = 'neuralnet_under2_pca'\n",
    "train = dataset_train.loc[undersample(dataset_train,0.02)]\n",
    "trained_models[label] = routine_GridSearchCV(estimator,parameters,train,columns_pca)\n",
    "predicted_probabilities[label] = trained_models[label].predict_proba(dataset[columns_pca]).T[1]\n",
    "label = 'neuralnet_under2_all'\n",
    "trained_models[label] = routine_GridSearchCV(estimator,parameters,train,columns_all)\n",
    "predicted_probabilities[label] = trained_models[label].predict_proba(dataset[columns_all]).T[1]"
   ]
  },
  {
   "cell_type": "code",
   "execution_count": null,
   "metadata": {},
   "outputs": [],
   "source": [
    "fig = py.figure()\n",
    "ax = fig.add_subplot(111,aspect='equal')\n",
    "y_true = dataset_test['Class']\n",
    "for label in ['neuralnet_under1_pca','neuralnet_under1_all','neuralnet_under2_pca','neuralnet_under2_all']:\n",
    "    y_predict = predicted_probabilities.loc[dataset_test.index,label]\n",
    "    precision,recall,threshold = sklearn.metrics.precision_recall_curve(y_true,y_predict)\n",
    "    ax.plot(recall,precision,'.-',label=label)\n",
    "ax.set_xlim(-0.1,1.1)\n",
    "ax.set_ylim(-0.1,1.1)\n",
    "ax.set_xticks([0,0.5,1.0])\n",
    "ax.set_xticklabels([str(x) for x in ax.get_xticks()],fontsize=16)\n",
    "ax.set_yticks([0,0.5,1.0])\n",
    "ax.set_yticklabels([str(x) for x in ax.get_yticks()],fontsize=16)\n",
    "ax.set_xlabel('Recall',fontsize=16)\n",
    "ax.set_ylabel('Precision',fontsize=16)\n",
    "ax.legend(loc='lower left',fontsize=12)\n",
    "ax.set_title('PRC - Neural net with undersampling',fontsize=16)"
   ]
  },
  {
   "cell_type": "markdown",
   "metadata": {},
   "source": [
    "# Comparison of models\n",
    "\n",
    "After training several models, I can compare their performance on a test set, using only examples that were not seen by any model during the training phase. A first way to visualize their performance is through the precision-recall curve, and the models can be scored by the area under that curve.\n",
    "\n",
    "There's an alternate way of scoring a model, the F_beta score. In the analysis of credit card fraud, recall is more important than precision. This is because a false-positive error (flagging a legit transaction as fraud) bring some inconvenience to the client but a false-negative error (flagging a fraudulent transaction as legit) can bring much more trouble and financial loss. Thus, in the tradeoff between precision and recall that comes when selecting a probability threshold, it's preferrable to increase recall even if it leads to a drop in precision, as long as this drop is not too strong. I chose to use a scorer that attachs five times more importance to a false-negative error as compared to a false-positive error.\n"
   ]
  },
  {
   "cell_type": "code",
   "execution_count": null,
   "metadata": {},
   "outputs": [],
   "source": [
    "fig = py.figure()\n",
    "ax = fig.add_subplot(111,aspect='equal')\n",
    "y_true = dataset_test['Class']\n",
    "for label in predicted_probabilities.columns:\n",
    "    if True:\n",
    "        y_predict = predicted_probabilities.loc[dataset_test.index,label]\n",
    "        precision,recall,threshold = sklearn.metrics.precision_recall_curve(y_true,y_predict)\n",
    "        ax.plot(recall,precision,'.',label=label)\n",
    "ax.set_xlim(-0.1,1.1)\n",
    "ax.set_ylim(-0.1,1.1)\n",
    "ax.set_xticks([0,0.5,1.0])\n",
    "ax.set_xticklabels([str(x) for x in ax.get_xticks()],fontsize=16)\n",
    "ax.set_yticks([0,0.5,1.0])\n",
    "ax.set_yticklabels([str(x) for x in ax.get_yticks()],fontsize=16)\n",
    "ax.set_xlabel('Recall',fontsize=16)\n",
    "ax.set_ylabel('Precision',fontsize=16)\n",
    "ax.legend(loc='lower left',fontsize=8)\n",
    "fig.tight_layout();"
   ]
  },
  {
   "cell_type": "code",
   "execution_count": null,
   "metadata": {},
   "outputs": [],
   "source": [
    "scores = {}\n",
    "for label,model in trained_models.items():\n",
    "    if label[-4:]=='_pca':\n",
    "        scores.update({label:scorers[0](model,dataset_test[columns_pca],dataset_test['Class'])})\n",
    "    if label[-4:]=='_all':\n",
    "        scores.update({label:scorers[0](model,dataset_test[columns_all],dataset_test['Class'])})\n",
    "    if 'polypca' in label:\n",
    "        scores.update({label:scorers[0](model,polynomial_features[label][dataset_test.index],dataset_test['Class'])})"
   ]
  },
  {
   "cell_type": "code",
   "execution_count": null,
   "metadata": {},
   "outputs": [],
   "source": [
    "fig = py.figure()\n",
    "ax = fig.add_subplot(111)\n",
    "scores_list = sorted([(x,y) for x,y in scores.items()],key=lambda x:-x[1])\n",
    "labels = [x[0] for x in scores_list]\n",
    "heights = [x[1] for x in scores_list]\n",
    "width = 0.8\n",
    "ax.barh(range(len(heights)),heights,height=width,color='k')\n",
    "ax.set_yticks(range(len(labels)))\n",
    "ax.set_yticklabels(labels,fontsize=12);\n",
    "ax.set_xlim(0,1)\n",
    "ax.set_xlabel('Area under PRC',fontsize=16)\n",
    "ax.set_ylabel('Model',fontsize=16)\n",
    "ax.set_title('Metric on test set',fontsize=16)\n",
    "ax.invert_yaxis()\n",
    "fig.tight_layout()"
   ]
  },
  {
   "cell_type": "code",
   "execution_count": null,
   "metadata": {},
   "outputs": [],
   "source": [
    "scores_fbeta = {}\n",
    "beta = 5.0\n",
    "for label,model in trained_models.items():\n",
    "    y_true = dataset_test['Class']\n",
    "    y_predict_proba = predicted_probabilities.loc[dataset_test.index,label]\n",
    "    precision,recall,threshold = sklearn.metrics.precision_recall_curve(y_true,y_predict_proba)\n",
    "#     score_this = max([sklearn.metrics.fbeta_score(y_true,y_predict_proba>thres,beta=5) for thres in threshold])\n",
    "    scores_fbeta[label] = max([(1+beta**2)*p*r/(beta**2*p+r) for p,r in zip(precision,recall)])\n",
    "# scores_fbeta.update({label:scorers[1](model,dataset_test[columns_pca],dataset_test['Class']) for label,model in trained_models.items() if label[-3:]=='pca'})\n",
    "# scores_fbeta.update({label:scorers[1](model,dataset_test[columns_all],dataset_test['Class']) for label,model in trained_models.items() if label[-3:]=='all'})"
   ]
  },
  {
   "cell_type": "code",
   "execution_count": null,
   "metadata": {},
   "outputs": [],
   "source": [
    "fig = py.figure()\n",
    "ax = fig.add_subplot(111)\n",
    "scores_list = sorted([(x,y) for x,y in scores_fbeta.items()],key=lambda x:-x[1])\n",
    "labels = [x[0] for x in scores_list]\n",
    "heights = [x[1] for x in scores_list]\n",
    "width = 0.8\n",
    "ax.barh(range(len(heights)),heights,height=width,color='k')\n",
    "ax.set_yticks(range(len(labels)))\n",
    "ax.set_yticklabels(labels,fontsize=12);\n",
    "ax.set_xlim(0,1)\n",
    "ax.set_xlabel('Fbeta score',fontsize=16)\n",
    "ax.set_ylabel('Model',fontsize=16)\n",
    "ax.set_title('Metric on test set',fontsize=16)\n",
    "ax.invert_yaxis()\n",
    "fig.tight_layout()"
   ]
  },
  {
   "cell_type": "markdown",
   "metadata": {},
   "source": [
    "There is not one clear best choice. Several models show very similar behaviour.\n",
    "\n"
   ]
  },
  {
   "cell_type": "markdown",
   "metadata": {},
   "source": [
    "# Stacking models\n",
    "\n",
    "There is no clear winner from all the models that were tested. In this case, there can be room for improvement by considering the predictions that each model makes as features for another model."
   ]
  },
  {
   "cell_type": "code",
   "execution_count": null,
   "metadata": {},
   "outputs": [],
   "source": [
    "estimator = sklearn.linear_model.LogisticRegression()\n",
    "parameters = {'C':10**(py.linspace(-2,2,5))}\n",
    "stacking_train = predicted_probabilities.loc[dataset_train.index]\n",
    "stacking_model = routine_GridSearchCV(estimator,parameters,stacking_train.join(dataset['Class']),stacking_train.columns)\n",
    "stacking_probabilities = stacking_model.predict_proba(predicted_probabilities).T[1]"
   ]
  },
  {
   "cell_type": "code",
   "execution_count": null,
   "metadata": {},
   "outputs": [],
   "source": [
    "fig = py.figure()\n",
    "ax = fig.add_subplot(111,aspect='equal')\n",
    "y_true = dataset_test['Class']\n",
    "for label in predicted_probabilities.columns:\n",
    "    if label in ['neuralnetdeep_pca','logreg_all']:\n",
    "        y_predict = predicted_probabilities.loc[dataset_test.index,label]\n",
    "        precision,recall,threshold = sklearn.metrics.precision_recall_curve(y_true,y_predict)\n",
    "        ax.plot(recall,precision,'.',label=label)\n",
    "y_predict = stacking_probabilities[dataset_test.index]\n",
    "precision,recall,threshold = sklearn.metrics.precision_recall_curve(y_true,y_predict)\n",
    "ax.plot(recall,precision,'.',label='Stacking')\n",
    "\n",
    "ax.set_xlim(-0.1,1.1)\n",
    "ax.set_ylim(-0.1,1.1)\n",
    "ax.set_xticks([0,0.5,1.0])\n",
    "ax.set_xticklabels([str(x) for x in ax.get_xticks()],fontsize=16)\n",
    "ax.set_yticks([0,0.5,1.0])\n",
    "ax.set_yticklabels([str(x) for x in ax.get_yticks()],fontsize=16)\n",
    "ax.set_xlabel('Recall',fontsize=16)\n",
    "ax.set_ylabel('Precision',fontsize=16)\n",
    "ax.legend(loc='lower left',fontsize=12)"
   ]
  },
  {
   "cell_type": "markdown",
   "metadata": {},
   "source": [
    "Stacking did not improve the classification performance. One reason for that is that all models behave very similarly, misclassifying the same examples. The strenghts and weaknesses of all models are similar and thus combining them does not improve the predictive power."
   ]
  },
  {
   "cell_type": "markdown",
   "metadata": {},
   "source": [
    "# Adjusting threshold\n",
    "\n",
    "Precision and recall can be changed along the PR curve by adjusting the probability threshold to declare a transaction as fraudulent. \n",
    "\n",
    "However, I do not want to use the test set to determine the threshold, as the test set must be used only for evaluating metrics. I need then to separate the training set into a proper training set and a cross-validation set.\n",
    "I will then re-train the model on this (reduced) training set, choose the threshold using the cross-validation set, and then evaluate metrics on the test set."
   ]
  },
  {
   "cell_type": "code",
   "execution_count": null,
   "metadata": {},
   "outputs": [],
   "source": [
    "test_ratio = 0.2\n",
    "dataset_train2,dataset_cv = sklearn.model_selection.train_test_split(dataset_train,test_size=test_ratio,random_state=0)"
   ]
  },
  {
   "cell_type": "code",
   "execution_count": null,
   "metadata": {},
   "outputs": [],
   "source": [
    "label_old = 'neuralnetdeep_pca'\n",
    "label_new = 'neuralnetdeep_pca_cv'\n",
    "trained_models[label_new] =  sklearn.base.clone(trained_models[label_old])\n",
    "trained_models[label_new].fit(dataset_train2[columns_pca],dataset_train2['Class'])\n",
    "predicted_probabilities[label_new] = trained_models[label_new].predict_proba(dataset[columns_pca]).T[1]"
   ]
  },
  {
   "cell_type": "markdown",
   "metadata": {},
   "source": [
    "The relevant part of the precision-recall curve is"
   ]
  },
  {
   "cell_type": "code",
   "execution_count": null,
   "metadata": {},
   "outputs": [],
   "source": [
    "fig = py.figure()\n",
    "ax = fig.add_subplot(111)\n",
    "y_true = dataset_cv['Class']\n",
    "y_predict = predicted_probabilities[label_new][dataset_cv.index]\n",
    "precision,recall,threshold = sklearn.metrics.precision_recall_curve(y_true,y_predict)\n",
    "ax.plot(recall,precision,'.-')\n",
    "ax.set_xlim(0.78,1.02)\n",
    "ax.set_ylim(-0.1,1.1)\n",
    "ax.set_xticks([0.8,0.85,0.9,0.95,1.0])\n",
    "ax.set_xticklabels([str(x) for x in ax.get_xticks()],fontsize=16)\n",
    "ax.set_yticks([0,0.5,1.0])\n",
    "ax.set_yticklabels([str(x) for x in ax.get_yticks()],fontsize=16)\n",
    "ax.set_xlabel('Recall',fontsize=16)\n",
    "ax.set_ylabel('Precision',fontsize=16);"
   ]
  },
  {
   "cell_type": "markdown",
   "metadata": {},
   "source": [
    "The step-like nature of the graph happens because of the small number of fraudulent transactions in the test dataset.\n",
    "\n",
    "The optimal performance depends on the relative importance given to precision and recall. To choose a threshold, the following graph may be helpful."
   ]
  },
  {
   "cell_type": "code",
   "execution_count": null,
   "metadata": {},
   "outputs": [],
   "source": [
    "fig = py.figure()\n",
    "ax = fig.add_subplot(111)\n",
    "y_true = dataset_cv['Class']\n",
    "y_predict = trained_models[label_new].predict_proba(dataset_cv[columns_pca]).T[1]\n",
    "precision,recall,threshold = sklearn.metrics.precision_recall_curve(y_true,y_predict)\n",
    "ax.plot(threshold,recall[:-1],'.-')\n",
    "ax.set_xlim(0,0.2)\n",
    "ax.set_ylim(0.85,1.0)\n",
    "ax.set_xticks([0.0,0.05,0.1,0.15,0.2])\n",
    "ax.set_xticklabels([str(x) for x in ax.get_xticks()],fontsize=16)\n",
    "ax.set_yticks([0.85,0.9,0.95,1.0])\n",
    "ax.set_yticklabels([str(x) for x in ax.get_yticks()],fontsize=16)\n",
    "ax.set_xlabel('Threshold',fontsize=16)\n",
    "ax.set_ylabel('Recall',fontsize=16);\n",
    "ax.set_title('PRC - Neural network',fontsize=16);"
   ]
  },
  {
   "cell_type": "markdown",
   "metadata": {},
   "source": [
    "# Visualization of best model\n",
    "\n",
    "I can visualize the performance by investigating the types of transactions that lead to a false positive or a false negative. Before doing that, a threshold must be selected."
   ]
  },
  {
   "cell_type": "code",
   "execution_count": null,
   "metadata": {},
   "outputs": [],
   "source": [
    "label = 'neuralnetdeep_pca_cv'\n",
    "y_true = dataset_cv['Class']\n",
    "y_predict = trained_models[label].predict_proba(dataset_cv[columns_pca]).T[1]\n",
    "precision,recall,threshold = sklearn.metrics.precision_recall_curve(y_true,y_predict)\n",
    "prc = [(x,y,z) for x,y,z in zip(precision,recall,threshold)]\n",
    "def get_threshold(recall_level):\n",
    "    try:\n",
    "        return max([x[2] for x in prc if x[1]>recall_level])\n",
    "    except ValueError:\n",
    "        return None\n",
    "def get_prediction(recall_level):\n",
    "    threshold = get_threshold(recall_level)\n",
    "    if threshold is not None:\n",
    "        prediction = predicted_probabilities['logreg_polypca']>threshold\n",
    "        return prediction"
   ]
  },
  {
   "cell_type": "code",
   "execution_count": null,
   "metadata": {},
   "outputs": [],
   "source": [
    "recall_level = 0.85\n",
    "threshold = get_threshold(recall_level)\n",
    "confusion_matrix = sklearn.metrics.confusion_matrix(dataset_test['Class'],get_prediction(recall_level)[dataset_test.index])\n",
    "print(confusion_matrix)"
   ]
  },
  {
   "cell_type": "code",
   "execution_count": null,
   "metadata": {},
   "outputs": [],
   "source": [
    "best_prediction = pd.DataFrame(index=dataset.index)\n",
    "best_prediction['Class'] = dataset['Class']\n",
    "best_prediction['Prob'] = trained_models[label].predict_proba(dataset[columns_pca]).T[1]\n",
    "best_prediction['Prediction'] = best_prediction['Prob'].apply(lambda x: 1 if x>threshold else 0)\n",
    "cases_tn = best_prediction[(best_prediction['Class']==0)&(best_prediction['Prediction']==0)]\n",
    "cases_fn = best_prediction[(best_prediction['Class']==1)&(best_prediction['Prediction']==0)]\n",
    "cases_tp = best_prediction[(best_prediction['Class']==1)&(best_prediction['Prediction']==1)]\n",
    "cases_fp = best_prediction[(best_prediction['Class']==0)&(best_prediction['Prediction']==1)]"
   ]
  },
  {
   "cell_type": "markdown",
   "metadata": {},
   "source": [
    "I can make visualization plots of the PCA variables, classifying the examples according to the confusion matrix."
   ]
  },
  {
   "cell_type": "code",
   "execution_count": null,
   "metadata": {},
   "outputs": [],
   "source": [
    "def plot_PCA_results(variableX,variableY):\n",
    "    fig = py.figure(figsize=(2*6.4,4.8))\n",
    "    cases = [cases_tn,cases_tp,cases_fp,cases_fn]\n",
    "    colors = ['k','g','y','r']\n",
    "    alphas = [0.01,1,1,1]\n",
    "    labels = ['TN','TP','FP','FN']\n",
    "    ax_train = fig.add_subplot(121)\n",
    "    for case,color,alpha,label in zip(cases,colors,alphas,labels):\n",
    "        index = [x for x in case.index if x in dataset_train.index]\n",
    "        data_x = dataset.loc[index,variableX]\n",
    "        data_y = dataset.loc[index,variableY]\n",
    "        ax_train.scatter(data_x,data_y,s=6,color=color,alpha=alpha,label=label)\n",
    "    ax_test = fig.add_subplot(122)\n",
    "    for case,color,alpha,label in zip(cases,colors,alphas,labels):\n",
    "        index = [x for x in case.index if x in dataset_test.index]\n",
    "        data_x = dataset.loc[index,variableX]\n",
    "        data_y = dataset.loc[index,variableY]\n",
    "        ax_test.scatter(data_x,data_y,s=6,color=color,alpha=alpha,label=label)\n",
    "        \n",
    "    describe = dataset.describe() \n",
    "    x_range = [describe[variableX]['mean']+x*describe[variableX]['std'] for x in [-10,10]]\n",
    "    y_range = [describe[variableY]['mean']+x*describe[variableY]['std'] for x in [-10,10]]\n",
    "    for ax in [ax_train,ax_test]:\n",
    "        ax.set_xlim(x_range)\n",
    "        ax.set_ylim(y_range)\n",
    "        ax.set_xlabel(variableX,fontsize=16)\n",
    "        ax.set_ylabel(variableY,fontsize=16)\n",
    "        ax.legend(fontsize=16)\n",
    "    ax_train.set_title('Training dataset',fontsize=16)\n",
    "    ax_test.set_title('Test dataset',fontsize=16)"
   ]
  },
  {
   "cell_type": "code",
   "execution_count": null,
   "metadata": {},
   "outputs": [],
   "source": [
    "plot_PCA_results('V2','V1')"
   ]
  },
  {
   "cell_type": "code",
   "execution_count": null,
   "metadata": {},
   "outputs": [],
   "source": [
    "plot_PCA_results('V3','V1')"
   ]
  },
  {
   "cell_type": "code",
   "execution_count": null,
   "metadata": {},
   "outputs": [],
   "source": [
    "plot_PCA_results('V4','V1')"
   ]
  },
  {
   "cell_type": "markdown",
   "metadata": {},
   "source": [
    "These plots show some general features of the classification task. Most legit transactions form a big cluster in the space of PCA variables, and the transactions that fall outside this cluster are classified as fraudulent (as most of them actually are fraudulent). On the other hand, the big cluster also contains some fraudulent transactions, which are not detected unless the number of false-positives is allowed to be quite high."
   ]
  },
  {
   "cell_type": "code",
   "execution_count": null,
   "metadata": {},
   "outputs": [],
   "source": []
  }
 ],
 "metadata": {
  "kernelspec": {
   "display_name": "Python 3",
   "language": "python",
   "name": "python3"
  },
  "language_info": {
   "codemirror_mode": {
    "name": "ipython",
    "version": 3
   },
   "file_extension": ".py",
   "mimetype": "text/x-python",
   "name": "python",
   "nbconvert_exporter": "python",
   "pygments_lexer": "ipython3",
   "version": "3.6.5"
  }
 },
 "nbformat": 4,
 "nbformat_minor": 2
}
